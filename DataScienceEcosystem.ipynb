{
  "nbformat": 4,
  "nbformat_minor": 0,
  "metadata": {
    "colab": {
      "provenance": [],
      "toc_visible": true
    },
    "kernelspec": {
      "name": "python3",
      "display_name": "Python 3"
    },
    "language_info": {
      "name": "python"
    }
  },
  "cells": [
    {
      "cell_type": "markdown",
      "source": [
        "# Data Science Tools and Ecosystem\n"
      ],
      "metadata": {
        "id": "FLqK1MJQGmLt"
      }
    },
    {
      "cell_type": "markdown",
      "source": [
        "In this notebook, Data Science Tools and Ecosystem are summarized."
      ],
      "metadata": {
        "id": "libmVPuOHdGN"
      }
    },
    {
      "cell_type": "markdown",
      "source": [
        "**Objectives:**\n",
        "\n",
        "\n",
        "*   Listing the popular languages used in Data Science\n",
        "*   Describe the libraries used by Data Scientists\n",
        "*   Depict Data Science Tools as tabular format\n",
        "*   Examples of evaluating arithmetic operations\n",
        "*   Conversion of minutes to hours\n",
        "\n"
      ],
      "metadata": {
        "id": "cG5uR6TlLpzr"
      }
    },
    {
      "cell_type": "markdown",
      "source": [
        "Some of the popular languages that Data Scientists use are:\n",
        "\n",
        "\n",
        "1.   Python\n",
        "2.   R\n",
        "3.   SQL\n",
        "4.   Scala\n",
        "5.   Julia\n",
        "\n",
        "\n",
        "\n",
        "\n"
      ],
      "metadata": {
        "id": "g7FcR6dcHq8T"
      }
    },
    {
      "cell_type": "markdown",
      "source": [
        "Some of the commonly used libraries used by Data Scientists include:\n",
        "\n",
        "\n",
        "1.   Pandas\n",
        "2.   Numpy\n",
        "3.   Matplotlib\n",
        "4.   Seaborn\n",
        "5.   Scikit-learn\n",
        "6.   Tensorflow\n",
        "\n",
        "\n"
      ],
      "metadata": {
        "id": "wK_Ay88zIdMS"
      }
    },
    {
      "cell_type": "markdown",
      "source": [
        " | Data Science Tools |\n",
        "|----|\n",
        "|Google Colab|\n",
        "|IBM Watson Studio|\n",
        "|Rstudio|\n",
        "|Anaconda|"
      ],
      "metadata": {
        "id": "4sTXBuORJGNA"
      }
    },
    {
      "cell_type": "markdown",
      "source": [
        "###Below are a few examples of evaluating arithmetic expressions in Python"
      ],
      "metadata": {
        "id": "IUd7iEmPJ6c5"
      }
    },
    {
      "cell_type": "code",
      "source": [
        "#This a simple arithmetic expression to mutiply then add integers\n",
        "(3*4)+5"
      ],
      "metadata": {
        "colab": {
          "base_uri": "https://localhost:8080/"
        },
        "id": "Z1rDkl_YKO8X",
        "outputId": "b9d62c2a-3efc-4743-9f4c-ec0e6a419097"
      },
      "execution_count": 4,
      "outputs": [
        {
          "output_type": "execute_result",
          "data": {
            "text/plain": [
              "17"
            ]
          },
          "metadata": {},
          "execution_count": 4
        }
      ]
    },
    {
      "cell_type": "code",
      "source": [
        "#This will convert 200 minutes to hours by diving by 60\n",
        "minute=200\n",
        "hours=200/60\n",
        "print(round(hours))"
      ],
      "metadata": {
        "colab": {
          "base_uri": "https://localhost:8080/"
        },
        "id": "-iaLd-5OKvxu",
        "outputId": "264d9180-0e40-4f4b-abff-e743ad2d7977"
      },
      "execution_count": 12,
      "outputs": [
        {
          "output_type": "stream",
          "name": "stdout",
          "text": [
            "3\n"
          ]
        }
      ]
    },
    {
      "cell_type": "markdown",
      "source": [
        "##Author\n",
        "Kanan Maharramov"
      ],
      "metadata": {
        "id": "SFHn492xMu9g"
      }
    }
  ]
}